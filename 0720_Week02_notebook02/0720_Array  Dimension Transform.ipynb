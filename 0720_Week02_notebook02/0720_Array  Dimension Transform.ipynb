{
 "cells": [
  {
   "cell_type": "code",
   "execution_count": 1,
   "metadata": {},
   "outputs": [],
   "source": [
    "import numpy as np"
   ]
  },
  {
   "cell_type": "code",
   "execution_count": 2,
   "metadata": {},
   "outputs": [],
   "source": [
    "A = np.random.rand(50)"
   ]
  },
  {
   "cell_type": "code",
   "execution_count": 3,
   "metadata": {},
   "outputs": [
    {
     "data": {
      "text/plain": [
       "array([0.8261909 , 0.4801236 , 0.28189424, 0.35873784, 0.49501712,\n",
       "       0.52499251, 0.65172755, 0.26462656, 0.2135778 , 0.699118  ,\n",
       "       0.82150342, 0.85403564, 0.99601335, 0.94346346, 0.24268794,\n",
       "       0.18438801, 0.75915321, 0.82601403, 0.34964743, 0.17663792,\n",
       "       0.35604671, 0.29400883, 0.53395067, 0.62617141, 0.51016778,\n",
       "       0.16078613, 0.82581101, 0.90963552, 0.49671053, 0.88838787,\n",
       "       0.32648777, 0.3242819 , 0.41639497, 0.53058499, 0.68844916,\n",
       "       0.45551507, 0.55690282, 0.5977739 , 0.86126625, 0.76204442,\n",
       "       0.19127221, 0.10911428, 0.14271039, 0.05301639, 0.57007564,\n",
       "       0.66201728, 0.1589838 , 0.52564755, 0.36123315, 0.0839568 ])"
      ]
     },
     "execution_count": 3,
     "metadata": {},
     "output_type": "execute_result"
    }
   ],
   "source": [
    "A"
   ]
  },
  {
   "cell_type": "markdown",
   "metadata": {},
   "source": [
    "## 檢查陣列維度-shape"
   ]
  },
  {
   "cell_type": "code",
   "execution_count": 7,
   "metadata": {},
   "outputs": [
    {
     "data": {
      "text/plain": [
       "(5, 10)"
      ]
     },
     "execution_count": 7,
     "metadata": {},
     "output_type": "execute_result"
    }
   ],
   "source": [
    "A.shape  #檢查 A 的 shape"
   ]
  },
  {
   "cell_type": "code",
   "execution_count": 8,
   "metadata": {},
   "outputs": [],
   "source": [
    "A.shape = (5, 10)  #更改 A 的 shape"
   ]
  },
  {
   "cell_type": "code",
   "execution_count": 9,
   "metadata": {},
   "outputs": [
    {
     "data": {
      "text/plain": [
       "array([[0.8261909 , 0.4801236 , 0.28189424, 0.35873784, 0.49501712,\n",
       "        0.52499251, 0.65172755, 0.26462656, 0.2135778 , 0.699118  ],\n",
       "       [0.82150342, 0.85403564, 0.99601335, 0.94346346, 0.24268794,\n",
       "        0.18438801, 0.75915321, 0.82601403, 0.34964743, 0.17663792],\n",
       "       [0.35604671, 0.29400883, 0.53395067, 0.62617141, 0.51016778,\n",
       "        0.16078613, 0.82581101, 0.90963552, 0.49671053, 0.88838787],\n",
       "       [0.32648777, 0.3242819 , 0.41639497, 0.53058499, 0.68844916,\n",
       "        0.45551507, 0.55690282, 0.5977739 , 0.86126625, 0.76204442],\n",
       "       [0.19127221, 0.10911428, 0.14271039, 0.05301639, 0.57007564,\n",
       "        0.66201728, 0.1589838 , 0.52564755, 0.36123315, 0.0839568 ]])"
      ]
     },
     "execution_count": 9,
     "metadata": {},
     "output_type": "execute_result"
    }
   ],
   "source": [
    "A"
   ]
  },
  {
   "cell_type": "markdown",
   "metadata": {},
   "source": [
    "## 轉置陣列-reshape"
   ]
  },
  {
   "cell_type": "code",
   "execution_count": 10,
   "metadata": {},
   "outputs": [
    {
     "data": {
      "text/plain": [
       "array([[0.8261909 , 0.4801236 , 0.28189424, 0.35873784, 0.49501712],\n",
       "       [0.52499251, 0.65172755, 0.26462656, 0.2135778 , 0.699118  ],\n",
       "       [0.82150342, 0.85403564, 0.99601335, 0.94346346, 0.24268794],\n",
       "       [0.18438801, 0.75915321, 0.82601403, 0.34964743, 0.17663792],\n",
       "       [0.35604671, 0.29400883, 0.53395067, 0.62617141, 0.51016778],\n",
       "       [0.16078613, 0.82581101, 0.90963552, 0.49671053, 0.88838787],\n",
       "       [0.32648777, 0.3242819 , 0.41639497, 0.53058499, 0.68844916],\n",
       "       [0.45551507, 0.55690282, 0.5977739 , 0.86126625, 0.76204442],\n",
       "       [0.19127221, 0.10911428, 0.14271039, 0.05301639, 0.57007564],\n",
       "       [0.66201728, 0.1589838 , 0.52564755, 0.36123315, 0.0839568 ]])"
      ]
     },
     "execution_count": 10,
     "metadata": {},
     "output_type": "execute_result"
    }
   ],
   "source": [
    "A.reshape(10, 5)"
   ]
  },
  {
   "cell_type": "markdown",
   "metadata": {},
   "source": [
    "## 拉平成一維陣列-ravel"
   ]
  },
  {
   "cell_type": "code",
   "execution_count": 11,
   "metadata": {},
   "outputs": [
    {
     "data": {
      "text/plain": [
       "array([0.8261909 , 0.4801236 , 0.28189424, 0.35873784, 0.49501712,\n",
       "       0.52499251, 0.65172755, 0.26462656, 0.2135778 , 0.699118  ,\n",
       "       0.82150342, 0.85403564, 0.99601335, 0.94346346, 0.24268794,\n",
       "       0.18438801, 0.75915321, 0.82601403, 0.34964743, 0.17663792,\n",
       "       0.35604671, 0.29400883, 0.53395067, 0.62617141, 0.51016778,\n",
       "       0.16078613, 0.82581101, 0.90963552, 0.49671053, 0.88838787,\n",
       "       0.32648777, 0.3242819 , 0.41639497, 0.53058499, 0.68844916,\n",
       "       0.45551507, 0.55690282, 0.5977739 , 0.86126625, 0.76204442,\n",
       "       0.19127221, 0.10911428, 0.14271039, 0.05301639, 0.57007564,\n",
       "       0.66201728, 0.1589838 , 0.52564755, 0.36123315, 0.0839568 ])"
      ]
     },
     "execution_count": 11,
     "metadata": {},
     "output_type": "execute_result"
    }
   ],
   "source": [
    "A.ravel()"
   ]
  },
  {
   "cell_type": "markdown",
   "metadata": {},
   "source": [
    "## 練習題-shape"
   ]
  },
  {
   "cell_type": "code",
   "execution_count": 13,
   "metadata": {},
   "outputs": [],
   "source": [
    "B = np.arange(10)"
   ]
  },
  {
   "cell_type": "code",
   "execution_count": 14,
   "metadata": {},
   "outputs": [
    {
     "data": {
      "text/plain": [
       "(10,)"
      ]
     },
     "execution_count": 14,
     "metadata": {},
     "output_type": "execute_result"
    }
   ],
   "source": [
    "B.shape"
   ]
  },
  {
   "cell_type": "code",
   "execution_count": 15,
   "metadata": {},
   "outputs": [
    {
     "data": {
      "text/plain": [
       "array([0, 1, 2, 3, 4, 5, 6, 7, 8, 9])"
      ]
     },
     "execution_count": 15,
     "metadata": {},
     "output_type": "execute_result"
    }
   ],
   "source": [
    "B"
   ]
  },
  {
   "cell_type": "code",
   "execution_count": 16,
   "metadata": {},
   "outputs": [],
   "source": [
    "B.shape=(2, 5)"
   ]
  },
  {
   "cell_type": "code",
   "execution_count": 17,
   "metadata": {},
   "outputs": [
    {
     "data": {
      "text/plain": [
       "array([[0, 1, 2, 3, 4],\n",
       "       [5, 6, 7, 8, 9]])"
      ]
     },
     "execution_count": 17,
     "metadata": {},
     "output_type": "execute_result"
    }
   ],
   "source": [
    "B"
   ]
  },
  {
   "cell_type": "code",
   "execution_count": 18,
   "metadata": {},
   "outputs": [
    {
     "data": {
      "text/plain": [
       "array([[0, 1],\n",
       "       [2, 3],\n",
       "       [4, 5],\n",
       "       [6, 7],\n",
       "       [8, 9]])"
      ]
     },
     "execution_count": 18,
     "metadata": {},
     "output_type": "execute_result"
    }
   ],
   "source": [
    "B.reshape(5, 2)"
   ]
  },
  {
   "cell_type": "code",
   "execution_count": null,
   "metadata": {},
   "outputs": [],
   "source": []
  }
 ],
 "metadata": {
  "kernelspec": {
   "display_name": "Python 3",
   "language": "python",
   "name": "python3"
  },
  "language_info": {
   "codemirror_mode": {
    "name": "ipython",
    "version": 3
   },
   "file_extension": ".py",
   "mimetype": "text/x-python",
   "name": "python",
   "nbconvert_exporter": "python",
   "pygments_lexer": "ipython3",
   "version": "3.7.3"
  }
 },
 "nbformat": 4,
 "nbformat_minor": 2
}
