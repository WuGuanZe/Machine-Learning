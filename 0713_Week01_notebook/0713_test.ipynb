{
 "cells": [
  {
   "cell_type": "code",
   "execution_count": 1,
   "metadata": {},
   "outputs": [
    {
     "data": {
      "text/plain": [
       "'/home/ds129'"
      ]
     },
     "execution_count": 1,
     "metadata": {},
     "output_type": "execute_result"
    }
   ],
   "source": [
    "pwd"
   ]
  },
  {
   "cell_type": "code",
   "execution_count": 2,
   "metadata": {},
   "outputs": [
    {
     "name": "stdout",
     "output_type": "stream",
     "text": [
      "total 108\r\n",
      "drwxr-xr-x 13 ds129 ds129  4096  7月 13 03:11 \u001b[0m\u001b[01;34m.\u001b[0m/\r\n",
      "drwxr-xr-x  1 root  root   4096  4月 20 16:55 \u001b[01;34m..\u001b[0m/\r\n",
      "-rw-rw-r--  1 ds129 ds129    72  7月 13 03:11 0713_test01.ipynb\r\n",
      "-rw-------  1 ds129 ds129 10135  7月 12 05:55 .bash_history\r\n",
      "-rw-r--r--  1 ds129 ds129   220  4月  4  2018 .bash_logout\r\n",
      "-rw-r--r--  1 ds129 ds129  3771  4月  4  2018 .bashrc\r\n",
      "drwxrwxr-x  2 ds129 ds129  4096  4月 26 02:34 \u001b[01;34m.beeline\u001b[0m/\r\n",
      "drwx------  2 ds129 ds129  4096  4月 26 02:34 \u001b[01;34m.cache\u001b[0m/\r\n",
      "drwxrwxr-x  3 ds129 ds129  4096  5月 31 02:48 \u001b[01;34m.config\u001b[0m/\r\n",
      "-rw-rw-r--  1 ds129 ds129 19990  7月 12 05:04 derby.log\r\n",
      "drwx------  2 ds129 ds129  4096  5月 10 03:52 \u001b[01;34m.elinks\u001b[0m/\r\n",
      "-rw-rw-r--  1 ds129 ds129   129  7月 12 05:04 .hiverc\r\n",
      "drwxrwxr-x  2 ds129 ds129  4096  7月 13 03:11 \u001b[01;34m.ipynb_checkpoints\u001b[0m/\r\n",
      "drwxr-xr-x  5 ds129 ds129  4096  4月 26 03:42 \u001b[01;34m.ipython\u001b[0m/\r\n",
      "drwx------  2 ds129 ds129  4096  7月 12 04:57 \u001b[01;34m.jupyter\u001b[0m/\r\n",
      "drwxrwxr-x  3 ds129 ds129  4096  4月 26 02:49 \u001b[01;34m.local\u001b[0m/\r\n",
      "drwxrwxr-x  5 ds129 ds129  4096  7月 12 05:04 \u001b[01;34mmetastore_db\u001b[0m/\r\n",
      "drwxrwxr-x  2 ds129 ds129  4096  7月 13 02:52 \u001b[01;34mopendata\u001b[0m/\r\n",
      "-rw-r--r--  1 ds129 ds129   807  4月  4  2018 .profile\r\n",
      "-rw-------  1 ds129 ds129     0  5月 31 04:25 .sqlite_history\r\n",
      "drwxr-xr-x  2 ds129 ds129  4096  2月 26 11:23 \u001b[01;34m.ssh\u001b[0m/\r\n",
      "-rw-rw-r--  1 ds129 ds129   166  5月 10 03:50 .wget-hsts\r\n"
     ]
    }
   ],
   "source": [
    "ls -al"
   ]
  },
  {
   "cell_type": "code",
   "execution_count": 3,
   "metadata": {},
   "outputs": [],
   "source": [
    "rmdir opendata"
   ]
  },
  {
   "cell_type": "code",
   "execution_count": 4,
   "metadata": {},
   "outputs": [
    {
     "name": "stdout",
     "output_type": "stream",
     "text": [
      "total 104\r\n",
      "drwxr-xr-x 12 ds129 ds129  4096  7月 13 03:13 \u001b[0m\u001b[01;34m.\u001b[0m/\r\n",
      "drwxr-xr-x  1 root  root   4096  4月 20 16:55 \u001b[01;34m..\u001b[0m/\r\n",
      "-rw-rw-r--  1 ds129 ds129  2941  7月 13 03:13 0713_test01.ipynb\r\n",
      "-rw-------  1 ds129 ds129 10135  7月 12 05:55 .bash_history\r\n",
      "-rw-r--r--  1 ds129 ds129   220  4月  4  2018 .bash_logout\r\n",
      "-rw-r--r--  1 ds129 ds129  3771  4月  4  2018 .bashrc\r\n",
      "drwxrwxr-x  2 ds129 ds129  4096  4月 26 02:34 \u001b[01;34m.beeline\u001b[0m/\r\n",
      "drwx------  2 ds129 ds129  4096  4月 26 02:34 \u001b[01;34m.cache\u001b[0m/\r\n",
      "drwxrwxr-x  3 ds129 ds129  4096  5月 31 02:48 \u001b[01;34m.config\u001b[0m/\r\n",
      "-rw-rw-r--  1 ds129 ds129 19990  7月 12 05:04 derby.log\r\n",
      "drwx------  2 ds129 ds129  4096  5月 10 03:52 \u001b[01;34m.elinks\u001b[0m/\r\n",
      "-rw-rw-r--  1 ds129 ds129   129  7月 12 05:04 .hiverc\r\n",
      "drwxrwxr-x  2 ds129 ds129  4096  7月 13 03:11 \u001b[01;34m.ipynb_checkpoints\u001b[0m/\r\n",
      "drwxr-xr-x  5 ds129 ds129  4096  4月 26 03:42 \u001b[01;34m.ipython\u001b[0m/\r\n",
      "drwx------  2 ds129 ds129  4096  7月 12 04:57 \u001b[01;34m.jupyter\u001b[0m/\r\n",
      "drwxrwxr-x  3 ds129 ds129  4096  4月 26 02:49 \u001b[01;34m.local\u001b[0m/\r\n",
      "drwxrwxr-x  5 ds129 ds129  4096  7月 12 05:04 \u001b[01;34mmetastore_db\u001b[0m/\r\n",
      "-rw-r--r--  1 ds129 ds129   807  4月  4  2018 .profile\r\n",
      "-rw-------  1 ds129 ds129     0  5月 31 04:25 .sqlite_history\r\n",
      "drwxr-xr-x  2 ds129 ds129  4096  2月 26 11:23 \u001b[01;34m.ssh\u001b[0m/\r\n",
      "-rw-rw-r--  1 ds129 ds129   166  5月 10 03:50 .wget-hsts\r\n"
     ]
    }
   ],
   "source": [
    "ls -al"
   ]
  },
  {
   "cell_type": "code",
   "execution_count": 5,
   "metadata": {},
   "outputs": [
    {
     "ename": "SyntaxError",
     "evalue": "invalid syntax (<ipython-input-5-5bf9daa9c059>, line 1)",
     "output_type": "error",
     "traceback": [
      "\u001b[0;36m  File \u001b[0;32m\"<ipython-input-5-5bf9daa9c059>\"\u001b[0;36m, line \u001b[0;32m1\u001b[0m\n\u001b[0;31m    find / -name metastore_db\u001b[0m\n\u001b[0m                            ^\u001b[0m\n\u001b[0;31mSyntaxError\u001b[0m\u001b[0;31m:\u001b[0m invalid syntax\n"
     ]
    }
   ],
   "source": [
    "find / -name metastore_db"
   ]
  },
  {
   "cell_type": "code",
   "execution_count": 6,
   "metadata": {},
   "outputs": [
    {
     "name": "stdout",
     "output_type": "stream",
     "text": [
      "total 108\r\n",
      "drwxr-xr-x 12 ds129 ds129  4096  7月 13 03:21 \u001b[0m\u001b[01;34m.\u001b[0m/\r\n",
      "drwxr-xr-x  1 root  root   4096  4月 20 16:55 \u001b[01;34m..\u001b[0m/\r\n",
      "-rw-rw-r--  1 ds129 ds129  5697  7月 13 03:21 0713_test01.ipynb\r\n",
      "-rw-------  1 ds129 ds129 10135  7月 12 05:55 .bash_history\r\n",
      "-rw-r--r--  1 ds129 ds129   220  4月  4  2018 .bash_logout\r\n",
      "-rw-r--r--  1 ds129 ds129  3771  4月  4  2018 .bashrc\r\n",
      "drwxrwxr-x  2 ds129 ds129  4096  4月 26 02:34 \u001b[01;34m.beeline\u001b[0m/\r\n",
      "drwx------  2 ds129 ds129  4096  4月 26 02:34 \u001b[01;34m.cache\u001b[0m/\r\n",
      "drwxrwxr-x  3 ds129 ds129  4096  5月 31 02:48 \u001b[01;34m.config\u001b[0m/\r\n",
      "-rw-rw-r--  1 ds129 ds129 19990  7月 12 05:04 derby.log\r\n",
      "drwx------  2 ds129 ds129  4096  5月 10 03:52 \u001b[01;34m.elinks\u001b[0m/\r\n",
      "-rw-rw-r--  1 ds129 ds129   129  7月 12 05:04 .hiverc\r\n",
      "drwxrwxr-x  2 ds129 ds129  4096  7月 13 03:11 \u001b[01;34m.ipynb_checkpoints\u001b[0m/\r\n",
      "drwxr-xr-x  5 ds129 ds129  4096  4月 26 03:42 \u001b[01;34m.ipython\u001b[0m/\r\n",
      "drwx------  2 ds129 ds129  4096  7月 12 04:57 \u001b[01;34m.jupyter\u001b[0m/\r\n",
      "drwxrwxr-x  3 ds129 ds129  4096  4月 26 02:49 \u001b[01;34m.local\u001b[0m/\r\n",
      "drwxrwxr-x  5 ds129 ds129  4096  7月 12 05:04 \u001b[01;34mmetastore_db\u001b[0m/\r\n",
      "-rw-r--r--  1 ds129 ds129   807  4月  4  2018 .profile\r\n",
      "-rw-------  1 ds129 ds129     0  5月 31 04:25 .sqlite_history\r\n",
      "drwxr-xr-x  2 ds129 ds129  4096  2月 26 11:23 \u001b[01;34m.ssh\u001b[0m/\r\n",
      "-rw-rw-r--  1 ds129 ds129   166  5月 10 03:50 .wget-hsts\r\n"
     ]
    }
   ],
   "source": [
    "ls -al"
   ]
  },
  {
   "cell_type": "code",
   "execution_count": 7,
   "metadata": {},
   "outputs": [
    {
     "ename": "NameError",
     "evalue": "name 'df' is not defined",
     "output_type": "error",
     "traceback": [
      "\u001b[0;31m---------------------------------------------------------------------------\u001b[0m",
      "\u001b[0;31mNameError\u001b[0m                                 Traceback (most recent call last)",
      "\u001b[0;32m<ipython-input-7-00cf07b74dcd>\u001b[0m in \u001b[0;36m<module>\u001b[0;34m\u001b[0m\n\u001b[0;32m----> 1\u001b[0;31m \u001b[0mdf\u001b[0m\u001b[0;34m\u001b[0m\u001b[0;34m\u001b[0m\u001b[0m\n\u001b[0m",
      "\u001b[0;31mNameError\u001b[0m: name 'df' is not defined"
     ]
    }
   ],
   "source": [
    "df"
   ]
  },
  {
   "cell_type": "code",
   "execution_count": 8,
   "metadata": {},
   "outputs": [
    {
     "name": "stdout",
     "output_type": "stream",
     "text": [
      "total 108\r\n",
      "drwxr-xr-x 12 ds129 ds129  4096  7月 13 03:21 \u001b[0m\u001b[01;34m.\u001b[0m/\r\n",
      "drwxr-xr-x  1 root  root   4096  4月 20 16:55 \u001b[01;34m..\u001b[0m/\r\n",
      "-rw-rw-r--  1 ds129 ds129  5697  7月 13 03:21 0713_test01.ipynb\r\n",
      "-rw-------  1 ds129 ds129 10135  7月 12 05:55 .bash_history\r\n",
      "-rw-r--r--  1 ds129 ds129   220  4月  4  2018 .bash_logout\r\n",
      "-rw-r--r--  1 ds129 ds129  3771  4月  4  2018 .bashrc\r\n",
      "drwxrwxr-x  2 ds129 ds129  4096  4月 26 02:34 \u001b[01;34m.beeline\u001b[0m/\r\n",
      "drwx------  2 ds129 ds129  4096  4月 26 02:34 \u001b[01;34m.cache\u001b[0m/\r\n",
      "drwxrwxr-x  3 ds129 ds129  4096  5月 31 02:48 \u001b[01;34m.config\u001b[0m/\r\n",
      "-rw-rw-r--  1 ds129 ds129 19990  7月 12 05:04 derby.log\r\n",
      "drwx------  2 ds129 ds129  4096  5月 10 03:52 \u001b[01;34m.elinks\u001b[0m/\r\n",
      "-rw-rw-r--  1 ds129 ds129   129  7月 12 05:04 .hiverc\r\n",
      "drwxrwxr-x  2 ds129 ds129  4096  7月 13 03:11 \u001b[01;34m.ipynb_checkpoints\u001b[0m/\r\n",
      "drwxr-xr-x  5 ds129 ds129  4096  4月 26 03:42 \u001b[01;34m.ipython\u001b[0m/\r\n",
      "drwx------  2 ds129 ds129  4096  7月 12 04:57 \u001b[01;34m.jupyter\u001b[0m/\r\n",
      "drwxrwxr-x  3 ds129 ds129  4096  4月 26 02:49 \u001b[01;34m.local\u001b[0m/\r\n",
      "drwxrwxr-x  5 ds129 ds129  4096  7月 12 05:04 \u001b[01;34mmetastore_db\u001b[0m/\r\n",
      "-rw-r--r--  1 ds129 ds129   807  4月  4  2018 .profile\r\n",
      "-rw-------  1 ds129 ds129     0  5月 31 04:25 .sqlite_history\r\n",
      "drwxr-xr-x  2 ds129 ds129  4096  2月 26 11:23 \u001b[01;34m.ssh\u001b[0m/\r\n",
      "-rw-rw-r--  1 ds129 ds129   166  5月 10 03:50 .wget-hsts\r\n"
     ]
    }
   ],
   "source": [
    "ls -al"
   ]
  },
  {
   "cell_type": "code",
   "execution_count": null,
   "metadata": {},
   "outputs": [],
   "source": []
  }
 ],
 "metadata": {
  "kernelspec": {
   "display_name": "Python 3",
   "language": "python",
   "name": "python3"
  },
  "language_info": {
   "codemirror_mode": {
    "name": "ipython",
    "version": 3
   },
   "file_extension": ".py",
   "mimetype": "text/x-python",
   "name": "python",
   "nbconvert_exporter": "python",
   "pygments_lexer": "ipython3",
   "version": "3.7.3"
  }
 },
 "nbformat": 4,
 "nbformat_minor": 2
}
