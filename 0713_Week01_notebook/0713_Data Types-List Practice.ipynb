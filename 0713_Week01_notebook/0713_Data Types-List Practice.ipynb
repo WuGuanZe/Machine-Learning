{
 "cells": [
  {
   "cell_type": "code",
   "execution_count": 24,
   "metadata": {},
   "outputs": [],
   "source": [
    "country = ['United States', 'China', 'France', 'United Kingdom', 'Germany', 'Korea', 'Japan', 'Dubai', 'Canada', 'Russia' ]"
   ]
  },
  {
   "cell_type": "code",
   "execution_count": 25,
   "metadata": {},
   "outputs": [
    {
     "data": {
      "text/plain": [
       "['United States',\n",
       " 'China',\n",
       " 'France',\n",
       " 'United Kingdom',\n",
       " 'Germany',\n",
       " 'Korea',\n",
       " 'Japan',\n",
       " 'Dubai',\n",
       " 'Canada',\n",
       " 'Russia']"
      ]
     },
     "execution_count": 25,
     "metadata": {},
     "output_type": "execute_result"
    }
   ],
   "source": [
    "country"
   ]
  },
  {
   "cell_type": "code",
   "execution_count": 26,
   "metadata": {},
   "outputs": [],
   "source": [
    "country.reverse()"
   ]
  },
  {
   "cell_type": "code",
   "execution_count": 27,
   "metadata": {},
   "outputs": [
    {
     "data": {
      "text/plain": [
       "['Russia',\n",
       " 'Canada',\n",
       " 'Dubai',\n",
       " 'Japan',\n",
       " 'Korea',\n",
       " 'Germany',\n",
       " 'United Kingdom',\n",
       " 'France',\n",
       " 'China',\n",
       " 'United States']"
      ]
     },
     "execution_count": 27,
     "metadata": {},
     "output_type": "execute_result"
    }
   ],
   "source": [
    "country"
   ]
  },
  {
   "cell_type": "code",
   "execution_count": 28,
   "metadata": {},
   "outputs": [],
   "source": [
    "country.sort()"
   ]
  },
  {
   "cell_type": "code",
   "execution_count": 29,
   "metadata": {},
   "outputs": [
    {
     "data": {
      "text/plain": [
       "['Canada',\n",
       " 'China',\n",
       " 'Dubai',\n",
       " 'France',\n",
       " 'Germany',\n",
       " 'Japan',\n",
       " 'Korea',\n",
       " 'Russia',\n",
       " 'United Kingdom',\n",
       " 'United States']"
      ]
     },
     "execution_count": 29,
     "metadata": {},
     "output_type": "execute_result"
    }
   ],
   "source": [
    "country"
   ]
  },
  {
   "cell_type": "code",
   "execution_count": 30,
   "metadata": {},
   "outputs": [],
   "source": [
    "country.append('Taiwan')"
   ]
  },
  {
   "cell_type": "code",
   "execution_count": 31,
   "metadata": {},
   "outputs": [
    {
     "data": {
      "text/plain": [
       "['Canada',\n",
       " 'China',\n",
       " 'Dubai',\n",
       " 'France',\n",
       " 'Germany',\n",
       " 'Japan',\n",
       " 'Korea',\n",
       " 'Russia',\n",
       " 'United Kingdom',\n",
       " 'United States',\n",
       " 'Taiwan']"
      ]
     },
     "execution_count": 31,
     "metadata": {},
     "output_type": "execute_result"
    }
   ],
   "source": [
    "country"
   ]
  },
  {
   "cell_type": "code",
   "execution_count": 32,
   "metadata": {},
   "outputs": [
    {
     "data": {
      "text/plain": [
       "'France'"
      ]
     },
     "execution_count": 32,
     "metadata": {},
     "output_type": "execute_result"
    }
   ],
   "source": [
    "country.pop(3)"
   ]
  },
  {
   "cell_type": "code",
   "execution_count": 33,
   "metadata": {},
   "outputs": [
    {
     "data": {
      "text/plain": [
       "['Canada',\n",
       " 'China',\n",
       " 'Dubai',\n",
       " 'Germany',\n",
       " 'Japan',\n",
       " 'Korea',\n",
       " 'Russia',\n",
       " 'United Kingdom',\n",
       " 'United States',\n",
       " 'Taiwan']"
      ]
     },
     "execution_count": 33,
     "metadata": {},
     "output_type": "execute_result"
    }
   ],
   "source": [
    "country"
   ]
  },
  {
   "cell_type": "code",
   "execution_count": 34,
   "metadata": {},
   "outputs": [
    {
     "data": {
      "text/plain": [
       "'Taiwan'"
      ]
     },
     "execution_count": 34,
     "metadata": {},
     "output_type": "execute_result"
    }
   ],
   "source": [
    "country.pop(9)"
   ]
  },
  {
   "cell_type": "code",
   "execution_count": 35,
   "metadata": {},
   "outputs": [
    {
     "data": {
      "text/plain": [
       "['Canada',\n",
       " 'China',\n",
       " 'Dubai',\n",
       " 'Germany',\n",
       " 'Japan',\n",
       " 'Korea',\n",
       " 'Russia',\n",
       " 'United Kingdom',\n",
       " 'United States']"
      ]
     },
     "execution_count": 35,
     "metadata": {},
     "output_type": "execute_result"
    }
   ],
   "source": [
    "country"
   ]
  },
  {
   "cell_type": "code",
   "execution_count": null,
   "metadata": {},
   "outputs": [],
   "source": []
  }
 ],
 "metadata": {
  "kernelspec": {
   "display_name": "Python 3",
   "language": "python",
   "name": "python3"
  },
  "language_info": {
   "codemirror_mode": {
    "name": "ipython",
    "version": 3
   },
   "file_extension": ".py",
   "mimetype": "text/x-python",
   "name": "python",
   "nbconvert_exporter": "python",
   "pygments_lexer": "ipython3",
   "version": "3.7.3"
  }
 },
 "nbformat": 4,
 "nbformat_minor": 2
}
