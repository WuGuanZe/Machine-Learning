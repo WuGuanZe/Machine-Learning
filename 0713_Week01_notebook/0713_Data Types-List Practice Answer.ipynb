{
 "cells": [
  {
   "cell_type": "markdown",
   "metadata": {},
   "source": [
    "# 實作題:請用串列同時用英文列出 10個心中想去的都市或旅遊景點"
   ]
  },
  {
   "cell_type": "code",
   "execution_count": 1,
   "metadata": {},
   "outputs": [],
   "source": [
    "city = ['Taipei', 'Taichung', 'Yunlin', 'Changhua', 'Tainan', 'Kaohsiung',  'Pingtung',  'Taoyuan',  'Hsinchu', 'Chiayi']"
   ]
  },
  {
   "cell_type": "markdown",
   "metadata": {},
   "source": [
    "## 1.列出 10個景點"
   ]
  },
  {
   "cell_type": "code",
   "execution_count": 2,
   "metadata": {},
   "outputs": [
    {
     "name": "stdout",
     "output_type": "stream",
     "text": [
      "['Taipei', 'Taichung', 'Yunlin', 'Changhua', 'Tainan', 'Kaohsiung', 'Pingtung', 'Taoyuan', 'Hsinchu', 'Chiayi']\n"
     ]
    }
   ],
   "source": [
    "'''1.列出 10個景點'''\n",
    "print(city)"
   ]
  },
  {
   "cell_type": "markdown",
   "metadata": {},
   "source": [
    "## 2.反向列出這這個景點"
   ]
  },
  {
   "cell_type": "code",
   "execution_count": 3,
   "metadata": {},
   "outputs": [
    {
     "name": "stdout",
     "output_type": "stream",
     "text": [
      "['Chiayi', 'Hsinchu', 'Taoyuan', 'Pingtung', 'Kaohsiung', 'Tainan', 'Changhua', 'Yunlin', 'Taichung', 'Taipei']\n"
     ]
    }
   ],
   "source": [
    "'''2.反向列出這這個景點'''\n",
    "city.reverse()\n",
    "print(city)"
   ]
  },
  {
   "cell_type": "markdown",
   "metadata": {},
   "source": [
    "## 3.排序小到大，同時列出來"
   ]
  },
  {
   "cell_type": "code",
   "execution_count": 4,
   "metadata": {},
   "outputs": [
    {
     "data": {
      "text/plain": [
       "['Changhua',\n",
       " 'Chiayi',\n",
       " 'Hsinchu',\n",
       " 'Kaohsiung',\n",
       " 'Pingtung',\n",
       " 'Taichung',\n",
       " 'Tainan',\n",
       " 'Taipei',\n",
       " 'Taoyuan',\n",
       " 'Yunlin']"
      ]
     },
     "execution_count": 4,
     "metadata": {},
     "output_type": "execute_result"
    }
   ],
   "source": [
    "'''3.排序小到大，同時列出來'''\n",
    "city.sort()\n",
    "city"
   ]
  },
  {
   "cell_type": "code",
   "execution_count": 5,
   "metadata": {},
   "outputs": [
    {
     "name": "stdout",
     "output_type": "stream",
     "text": [
      "['Changhua', 'Chiayi', 'Hsinchu', 'Kaohsiung', 'Pingtung', 'Taichung', 'Tainan', 'Taipei', 'Taoyuan', 'Yunlin']\n"
     ]
    }
   ],
   "source": [
    "print(city)"
   ]
  },
  {
   "cell_type": "markdown",
   "metadata": {},
   "source": [
    "## 4.遞減排序，由大到小顯示"
   ]
  },
  {
   "cell_type": "code",
   "execution_count": 6,
   "metadata": {},
   "outputs": [
    {
     "name": "stdout",
     "output_type": "stream",
     "text": [
      "['Yunlin', 'Taoyuan', 'Taipei', 'Tainan', 'Taichung', 'Pingtung', 'Kaohsiung', 'Hsinchu', 'Chiayi', 'Changhua']\n"
     ]
    }
   ],
   "source": [
    "'''4.遞減排序，由大到小顯示'''\n",
    "city.sort(reverse=True)\n",
    "print(city)"
   ]
  },
  {
   "cell_type": "markdown",
   "metadata": {},
   "source": [
    "## 5.請在第一個位置增加Antarctic,請在最後位置增加Arctic Sea"
   ]
  },
  {
   "cell_type": "code",
   "execution_count": 7,
   "metadata": {},
   "outputs": [
    {
     "name": "stdout",
     "output_type": "stream",
     "text": [
      "已在第一個位置增加了Antarctic地名，如下顯示：\n",
      " ['Antarctic', 'Yunlin', 'Taoyuan', 'Taipei', 'Tainan', 'Taichung', 'Pingtung', 'Kaohsiung', 'Hsinchu', 'Chiayi', 'Changhua']\n"
     ]
    }
   ],
   "source": [
    "'''5-1, 請在第一個位置增加Antarctic'''\n",
    "city.insert(0,'Antarctic')\n",
    "print(\"已在第一個位置增加了Antarctic地名，如下顯示：\\n\",city)"
   ]
  },
  {
   "cell_type": "code",
   "execution_count": 8,
   "metadata": {},
   "outputs": [
    {
     "name": "stdout",
     "output_type": "stream",
     "text": [
      "已在最後的位置增加了Arctic Sea地名，如下顯示：\n",
      " ['Antarctic', 'Yunlin', 'Taoyuan', 'Taipei', 'Tainan', 'Taichung', 'Pingtung', 'Kaohsiung', 'Hsinchu', 'Chiayi', 'Changhua', 'Arctic Sea']\n"
     ]
    }
   ],
   "source": [
    "'''5-2, 請在最後位置增加Arctic Sea'''\n",
    "city.append('Arctic Sea')\n",
    "print(\"已在最後的位置增加了Arctic Sea地名，如下顯示：\\n\",city)"
   ]
  },
  {
   "cell_type": "markdown",
   "metadata": {},
   "source": [
    "## 6.請在中央位置增加Chicago"
   ]
  },
  {
   "cell_type": "code",
   "execution_count": 9,
   "metadata": {},
   "outputs": [
    {
     "data": {
      "text/plain": [
       "'Pingtung'"
      ]
     },
     "execution_count": 9,
     "metadata": {},
     "output_type": "execute_result"
    }
   ],
   "source": [
    "'''6.請在中央位置增加Chicago'''\n",
    "city[6]"
   ]
  },
  {
   "cell_type": "code",
   "execution_count": 10,
   "metadata": {},
   "outputs": [],
   "source": [
    "city.insert(6,'Chicago')"
   ]
  },
  {
   "cell_type": "code",
   "execution_count": 11,
   "metadata": {},
   "outputs": [
    {
     "name": "stdout",
     "output_type": "stream",
     "text": [
      "已在中央位置增加Chicago地名，如下顯示：\n",
      " ['Antarctic', 'Yunlin', 'Taoyuan', 'Taipei', 'Tainan', 'Taichung', 'Chicago', 'Pingtung', 'Kaohsiung', 'Hsinchu', 'Chiayi', 'Changhua', 'Arctic Sea']\n"
     ]
    }
   ],
   "source": [
    "print(\"已在中央位置增加Chicago地名，如下顯示：\\n\",city)"
   ]
  },
  {
   "cell_type": "markdown",
   "metadata": {},
   "source": [
    "## 7.分別刪除第 3和第 9筆元素"
   ]
  },
  {
   "cell_type": "code",
   "execution_count": 12,
   "metadata": {},
   "outputs": [
    {
     "data": {
      "text/plain": [
       "'Taoyuan'"
      ]
     },
     "execution_count": 12,
     "metadata": {},
     "output_type": "execute_result"
    }
   ],
   "source": [
    "'''7-1.分別刪除第 3，實際上的索引位置是0,1,2'''\n",
    "city.pop(2)"
   ]
  },
  {
   "cell_type": "code",
   "execution_count": 13,
   "metadata": {},
   "outputs": [
    {
     "data": {
      "text/plain": [
       "'Hsinchu'"
      ]
     },
     "execution_count": 13,
     "metadata": {},
     "output_type": "execute_result"
    }
   ],
   "source": [
    "'''7-2.刪除第 9筆元素,實際上的索引位置是8'''\n",
    "city.pop(8)"
   ]
  },
  {
   "cell_type": "code",
   "execution_count": 14,
   "metadata": {},
   "outputs": [
    {
     "name": "stdout",
     "output_type": "stream",
     "text": [
      "最後的結果:\n",
      " ['Antarctic', 'Yunlin', 'Taipei', 'Tainan', 'Taichung', 'Chicago', 'Pingtung', 'Kaohsiung', 'Chiayi', 'Changhua', 'Arctic Sea']\n"
     ]
    }
   ],
   "source": [
    "print('最後的結果:\\n',city)"
   ]
  },
  {
   "cell_type": "code",
   "execution_count": null,
   "metadata": {},
   "outputs": [],
   "source": []
  }
 ],
 "metadata": {
  "kernelspec": {
   "display_name": "Python 3",
   "language": "python",
   "name": "python3"
  },
  "language_info": {
   "codemirror_mode": {
    "name": "ipython",
    "version": 3
   },
   "file_extension": ".py",
   "mimetype": "text/x-python",
   "name": "python",
   "nbconvert_exporter": "python",
   "pygments_lexer": "ipython3",
   "version": "3.7.3"
  }
 },
 "nbformat": 4,
 "nbformat_minor": 2
}
