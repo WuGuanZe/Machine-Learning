{
 "cells": [
  {
   "cell_type": "markdown",
   "metadata": {},
   "source": [
    "## 以市長候選人為例建置 DataFrame 運算"
   ]
  },
  {
   "cell_type": "code",
   "execution_count": 3,
   "metadata": {},
   "outputs": [],
   "source": [
    "%matplotlib inline\n",
    "import numpy as np\n",
    "import matplotlib.pyplot as plt\n",
    "import pandas as pd"
   ]
  },
  {
   "cell_type": "code",
   "execution_count": 4,
   "metadata": {},
   "outputs": [],
   "source": [
    "姓名 = ['吳蕚洋', '丁守中', '姚文智', '柯文哲', '李錫錕']\n",
    "黨派 = ['無', '國民黨', '民進黨', '無', '無']\n",
    "年齡 = [58, 64, 53, 59, 71]\n",
    "號次 = [1, 2, 3, 4, 5]"
   ]
  },
  {
   "cell_type": "code",
   "execution_count": 5,
   "metadata": {},
   "outputs": [],
   "source": [
    "s1 = pd.Series(姓名)\n",
    "s2 = pd.Series(黨派)\n",
    "s3 = pd.Series(年齡)\n",
    "s4 = pd.Series(號次)"
   ]
  },
  {
   "cell_type": "code",
   "execution_count": 6,
   "metadata": {},
   "outputs": [],
   "source": [
    "候選人資訊 = { '號次' : s4, '姓名' : s1, '年齡' : s3, '黨派' : s2 }"
   ]
  },
  {
   "cell_type": "code",
   "execution_count": 7,
   "metadata": {},
   "outputs": [],
   "source": [
    "台北市長候選人 = pd.DataFrame(候選人資訊)"
   ]
  },
  {
   "cell_type": "code",
   "execution_count": 8,
   "metadata": {},
   "outputs": [
    {
     "name": "stdout",
     "output_type": "stream",
     "text": [
      "   號次   姓名  年齡   黨派\n",
      "0   1  吳蕚洋  58    無\n",
      "1   2  丁守中  64  國民黨\n",
      "2   3  姚文智  53  民進黨\n",
      "3   4  柯文哲  59    無\n",
      "4   5  李錫錕  71    無\n"
     ]
    }
   ],
   "source": [
    "print(台北市長候選人)"
   ]
  },
  {
   "cell_type": "code",
   "execution_count": 9,
   "metadata": {},
   "outputs": [
    {
     "name": "stdout",
     "output_type": "stream",
     "text": [
      "(5, 4)\n"
     ]
    }
   ],
   "source": [
    "# shape:取得 DataFrame 列數欄數(列,欄)\n",
    "print(台北市長候選人.shape)"
   ]
  },
  {
   "cell_type": "code",
   "execution_count": 10,
   "metadata": {},
   "outputs": [
    {
     "name": "stdout",
     "output_type": "stream",
     "text": [
      "Index(['號次', '姓名', '年齡', '黨派'], dtype='object')\n",
      "RangeIndex(start=0, stop=5, step=1)\n"
     ]
    }
   ],
   "source": [
    "# columns: DataFrame 的欄位資訊\n",
    "print(台北市長候選人.columns)\n",
    "# index： DataFrame 的列索引資訊\n",
    "print(台北市長候選人.index) "
   ]
  },
  {
   "cell_type": "code",
   "execution_count": 11,
   "metadata": {},
   "outputs": [
    {
     "name": "stdout",
     "output_type": "stream",
     "text": [
      "<class 'pandas.core.frame.DataFrame'>\n",
      "RangeIndex: 5 entries, 0 to 4\n",
      "Data columns (total 4 columns):\n",
      "號次    5 non-null int64\n",
      "姓名    5 non-null object\n",
      "年齡    5 non-null int64\n",
      "黨派    5 non-null object\n",
      "dtypes: int64(2), object(2)\n",
      "memory usage: 240.0+ bytes\n",
      "None\n"
     ]
    }
   ],
   "source": [
    "# info( )： DataFrame 的詳細資訊\n",
    "print(台北市長候選人.info()) "
   ]
  },
  {
   "cell_type": "code",
   "execution_count": 12,
   "metadata": {},
   "outputs": [
    {
     "name": "stdout",
     "output_type": "stream",
     "text": [
      "             號次         年齡\n",
      "count  5.000000   5.000000\n",
      "mean   3.000000  61.000000\n",
      "std    1.581139   6.819091\n",
      "min    1.000000  53.000000\n",
      "25%    2.000000  58.000000\n",
      "50%    3.000000  59.000000\n",
      "75%    4.000000  64.000000\n",
      "max    5.000000  71.000000\n"
     ]
    }
   ],
   "source": [
    "# describe()：針對數值資料進行統計運算\n",
    "print(台北市長候選人.describe())"
   ]
  },
  {
   "cell_type": "code",
   "execution_count": 13,
   "metadata": {},
   "outputs": [
    {
     "data": {
      "text/html": [
       "<div>\n",
       "<style scoped>\n",
       "    .dataframe tbody tr th:only-of-type {\n",
       "        vertical-align: middle;\n",
       "    }\n",
       "\n",
       "    .dataframe tbody tr th {\n",
       "        vertical-align: top;\n",
       "    }\n",
       "\n",
       "    .dataframe thead th {\n",
       "        text-align: right;\n",
       "    }\n",
       "</style>\n",
       "<table border=\"1\" class=\"dataframe\">\n",
       "  <thead>\n",
       "    <tr style=\"text-align: right;\">\n",
       "      <th></th>\n",
       "      <th>號次</th>\n",
       "      <th>姓名</th>\n",
       "      <th>年齡</th>\n",
       "      <th>黨派</th>\n",
       "    </tr>\n",
       "  </thead>\n",
       "  <tbody>\n",
       "    <tr>\n",
       "      <th>0</th>\n",
       "      <td>1</td>\n",
       "      <td>吳蕚洋</td>\n",
       "      <td>58</td>\n",
       "      <td>無</td>\n",
       "    </tr>\n",
       "    <tr>\n",
       "      <th>2</th>\n",
       "      <td>3</td>\n",
       "      <td>姚文智</td>\n",
       "      <td>53</td>\n",
       "      <td>民進黨</td>\n",
       "    </tr>\n",
       "    <tr>\n",
       "      <th>3</th>\n",
       "      <td>4</td>\n",
       "      <td>柯文哲</td>\n",
       "      <td>59</td>\n",
       "      <td>無</td>\n",
       "    </tr>\n",
       "  </tbody>\n",
       "</table>\n",
       "</div>"
      ],
      "text/plain": [
       "   號次   姓名  年齡   黨派\n",
       "0   1  吳蕚洋  58    無\n",
       "2   3  姚文智  53  民進黨\n",
       "3   4  柯文哲  59    無"
      ]
     },
     "execution_count": 13,
     "metadata": {},
     "output_type": "execute_result"
    }
   ],
   "source": [
    "# DataFrame 資料篩選\n",
    "# 取出表格中候選人年齡小於 60 歲者：\n",
    "result = 台北市長候選人[台北市長候選人['年齡'] < 60]\n",
    "result"
   ]
  },
  {
   "cell_type": "code",
   "execution_count": 14,
   "metadata": {},
   "outputs": [
    {
     "data": {
      "text/html": [
       "<div>\n",
       "<style scoped>\n",
       "    .dataframe tbody tr th:only-of-type {\n",
       "        vertical-align: middle;\n",
       "    }\n",
       "\n",
       "    .dataframe tbody tr th {\n",
       "        vertical-align: top;\n",
       "    }\n",
       "\n",
       "    .dataframe thead th {\n",
       "        text-align: right;\n",
       "    }\n",
       "</style>\n",
       "<table border=\"1\" class=\"dataframe\">\n",
       "  <thead>\n",
       "    <tr style=\"text-align: right;\">\n",
       "      <th></th>\n",
       "      <th>號次</th>\n",
       "      <th>姓名</th>\n",
       "      <th>年齡</th>\n",
       "      <th>黨派</th>\n",
       "    </tr>\n",
       "  </thead>\n",
       "  <tbody>\n",
       "    <tr>\n",
       "      <th>0</th>\n",
       "      <td>1</td>\n",
       "      <td>吳蕚洋</td>\n",
       "      <td>58</td>\n",
       "      <td>無</td>\n",
       "    </tr>\n",
       "    <tr>\n",
       "      <th>3</th>\n",
       "      <td>4</td>\n",
       "      <td>柯文哲</td>\n",
       "      <td>59</td>\n",
       "      <td>無</td>\n",
       "    </tr>\n",
       "  </tbody>\n",
       "</table>\n",
       "</div>"
      ],
      "text/plain": [
       "   號次   姓名  年齡 黨派\n",
       "0   1  吳蕚洋  58  無\n",
       "3   4  柯文哲  59  無"
      ]
     },
     "execution_count": 14,
     "metadata": {},
     "output_type": "execute_result"
    }
   ],
   "source": [
    "# 取出表格中候選人年齡限制介於 60 歲至 55 歲者：\n",
    "result = 台北市長候選人[ (台北市長候選人['年齡'] < 60) &(台北市長候選人['年齡']> 55) ]\n",
    "result"
   ]
  },
  {
   "cell_type": "code",
   "execution_count": 15,
   "metadata": {},
   "outputs": [
    {
     "data": {
      "text/html": [
       "<div>\n",
       "<style scoped>\n",
       "    .dataframe tbody tr th:only-of-type {\n",
       "        vertical-align: middle;\n",
       "    }\n",
       "\n",
       "    .dataframe tbody tr th {\n",
       "        vertical-align: top;\n",
       "    }\n",
       "\n",
       "    .dataframe thead th {\n",
       "        text-align: right;\n",
       "    }\n",
       "</style>\n",
       "<table border=\"1\" class=\"dataframe\">\n",
       "  <thead>\n",
       "    <tr style=\"text-align: right;\">\n",
       "      <th></th>\n",
       "      <th>0</th>\n",
       "      <th>1</th>\n",
       "      <th>2</th>\n",
       "      <th>3</th>\n",
       "      <th>4</th>\n",
       "    </tr>\n",
       "  </thead>\n",
       "  <tbody>\n",
       "    <tr>\n",
       "      <th>號次</th>\n",
       "      <td>1</td>\n",
       "      <td>2</td>\n",
       "      <td>3</td>\n",
       "      <td>4</td>\n",
       "      <td>5</td>\n",
       "    </tr>\n",
       "    <tr>\n",
       "      <th>姓名</th>\n",
       "      <td>吳蕚洋</td>\n",
       "      <td>丁守中</td>\n",
       "      <td>姚文智</td>\n",
       "      <td>柯文哲</td>\n",
       "      <td>李錫錕</td>\n",
       "    </tr>\n",
       "    <tr>\n",
       "      <th>年齡</th>\n",
       "      <td>58</td>\n",
       "      <td>64</td>\n",
       "      <td>53</td>\n",
       "      <td>59</td>\n",
       "      <td>71</td>\n",
       "    </tr>\n",
       "    <tr>\n",
       "      <th>黨派</th>\n",
       "      <td>無</td>\n",
       "      <td>國民黨</td>\n",
       "      <td>民進黨</td>\n",
       "      <td>無</td>\n",
       "      <td>無</td>\n",
       "    </tr>\n",
       "  </tbody>\n",
       "</table>\n",
       "</div>"
      ],
      "text/plain": [
       "      0    1    2    3    4\n",
       "號次    1    2    3    4    5\n",
       "姓名  吳蕚洋  丁守中  姚文智  柯文哲  李錫錕\n",
       "年齡   58   64   53   59   71\n",
       "黨派    無  國民黨  民進黨    無    無"
      ]
     },
     "execution_count": 15,
     "metadata": {},
     "output_type": "execute_result"
    }
   ],
   "source": [
    "# DataFrame 表格轉置\n",
    "# T : 列與欄互換：\n",
    "result = 台北市長候選人.T\n",
    "result"
   ]
  },
  {
   "cell_type": "code",
   "execution_count": 16,
   "metadata": {},
   "outputs": [
    {
     "data": {
      "text/plain": [
       "0  號次      1\n",
       "   姓名    吳蕚洋\n",
       "   年齡     58\n",
       "   黨派      無\n",
       "1  號次      2\n",
       "   姓名    丁守中\n",
       "   年齡     64\n",
       "   黨派    國民黨\n",
       "2  號次      3\n",
       "   姓名    姚文智\n",
       "   年齡     53\n",
       "   黨派    民進黨\n",
       "3  號次      4\n",
       "   姓名    柯文哲\n",
       "   年齡     59\n",
       "   黨派      無\n",
       "4  號次      5\n",
       "   姓名    李錫錕\n",
       "   年齡     71\n",
       "   黨派      無\n",
       "dtype: object"
      ]
     },
     "execution_count": 16,
     "metadata": {},
     "output_type": "execute_result"
    }
   ],
   "source": [
    "# stack() ： 轉為長表格\n",
    "resultlong = 台北市長候選人.stack()\n",
    "resultlong"
   ]
  },
  {
   "cell_type": "code",
   "execution_count": 17,
   "metadata": {},
   "outputs": [
    {
     "data": {
      "text/html": [
       "<div>\n",
       "<style scoped>\n",
       "    .dataframe tbody tr th:only-of-type {\n",
       "        vertical-align: middle;\n",
       "    }\n",
       "\n",
       "    .dataframe tbody tr th {\n",
       "        vertical-align: top;\n",
       "    }\n",
       "\n",
       "    .dataframe thead th {\n",
       "        text-align: right;\n",
       "    }\n",
       "</style>\n",
       "<table border=\"1\" class=\"dataframe\">\n",
       "  <thead>\n",
       "    <tr style=\"text-align: right;\">\n",
       "      <th></th>\n",
       "      <th>號次</th>\n",
       "      <th>姓名</th>\n",
       "      <th>年齡</th>\n",
       "      <th>黨派</th>\n",
       "    </tr>\n",
       "  </thead>\n",
       "  <tbody>\n",
       "    <tr>\n",
       "      <th>0</th>\n",
       "      <td>1</td>\n",
       "      <td>吳蕚洋</td>\n",
       "      <td>58</td>\n",
       "      <td>無</td>\n",
       "    </tr>\n",
       "    <tr>\n",
       "      <th>1</th>\n",
       "      <td>2</td>\n",
       "      <td>丁守中</td>\n",
       "      <td>64</td>\n",
       "      <td>國民黨</td>\n",
       "    </tr>\n",
       "    <tr>\n",
       "      <th>2</th>\n",
       "      <td>3</td>\n",
       "      <td>姚文智</td>\n",
       "      <td>53</td>\n",
       "      <td>民進黨</td>\n",
       "    </tr>\n",
       "    <tr>\n",
       "      <th>3</th>\n",
       "      <td>4</td>\n",
       "      <td>柯文哲</td>\n",
       "      <td>59</td>\n",
       "      <td>無</td>\n",
       "    </tr>\n",
       "    <tr>\n",
       "      <th>4</th>\n",
       "      <td>5</td>\n",
       "      <td>李錫錕</td>\n",
       "      <td>71</td>\n",
       "      <td>無</td>\n",
       "    </tr>\n",
       "  </tbody>\n",
       "</table>\n",
       "</div>"
      ],
      "text/plain": [
       "  號次   姓名  年齡   黨派\n",
       "0  1  吳蕚洋  58    無\n",
       "1  2  丁守中  64  國民黨\n",
       "2  3  姚文智  53  民進黨\n",
       "3  4  柯文哲  59    無\n",
       "4  5  李錫錕  71    無"
      ]
     },
     "execution_count": 17,
     "metadata": {},
     "output_type": "execute_result"
    }
   ],
   "source": [
    "# unstack() ： 轉為寬表格\n",
    "result = resultlong.unstack()\n",
    "result"
   ]
  },
  {
   "cell_type": "code",
   "execution_count": 18,
   "metadata": {},
   "outputs": [
    {
     "name": "stdout",
     "output_type": "stream",
     "text": [
      "   號次   姓名  年齡   黨派\n",
      "0   1  吳蕚洋  58    無\n",
      "1   2  丁守中  64  國民黨\n",
      "2   3  姚文智  53  民進黨\n",
      "3   4  柯文哲  59    無\n",
      "4   5  李錫錕  71    無\n",
      "5   3  姚文智  53  民進黨\n"
     ]
    }
   ],
   "source": [
    "# 將範例更改如下：\n",
    "姓名 = ['吳蕚洋', '丁守中', '姚文智', '柯文哲', '李錫錕', '姚文智']\n",
    "黨派 = ['無', '國民黨', '民進黨', '無', '無', '民進黨']\n",
    "年齡 = [58, 64, 53, 59, 71, 53]\n",
    "號次 = [1, 2, 3, 4, 5, 3]\n",
    "\n",
    "s1 = pd.Series(姓名)\n",
    "s2 = pd.Series(黨派)\n",
    "s3 = pd.Series(年齡)\n",
    "s4 = pd.Series(號次)\n",
    "\n",
    "候選人資訊 = { '號次' : s4, '姓名' : s1, '年齡' : s3, '黨派' : s2 }\n",
    "台北市長候選人 = pd.DataFrame(候選人資訊)\n",
    "print(台北市長候選人)"
   ]
  },
  {
   "cell_type": "code",
   "execution_count": 19,
   "metadata": {},
   "outputs": [
    {
     "data": {
      "text/plain": [
       "0    False\n",
       "1    False\n",
       "2    False\n",
       "3    False\n",
       "4    False\n",
       "5     True\n",
       "dtype: bool"
      ]
     },
     "execution_count": 19,
     "metadata": {},
     "output_type": "execute_result"
    }
   ],
   "source": [
    "# DataFrame 資料重複與剔除\n",
    "# duplicated() ： 判斷資料是否有重複（重覆二筆以上為True）\n",
    "result = 台北市長候選人.duplicated()\n",
    "result"
   ]
  },
  {
   "cell_type": "code",
   "execution_count": 20,
   "metadata": {},
   "outputs": [
    {
     "data": {
      "text/html": [
       "<div>\n",
       "<style scoped>\n",
       "    .dataframe tbody tr th:only-of-type {\n",
       "        vertical-align: middle;\n",
       "    }\n",
       "\n",
       "    .dataframe tbody tr th {\n",
       "        vertical-align: top;\n",
       "    }\n",
       "\n",
       "    .dataframe thead th {\n",
       "        text-align: right;\n",
       "    }\n",
       "</style>\n",
       "<table border=\"1\" class=\"dataframe\">\n",
       "  <thead>\n",
       "    <tr style=\"text-align: right;\">\n",
       "      <th></th>\n",
       "      <th>號次</th>\n",
       "      <th>姓名</th>\n",
       "      <th>年齡</th>\n",
       "      <th>黨派</th>\n",
       "    </tr>\n",
       "  </thead>\n",
       "  <tbody>\n",
       "    <tr>\n",
       "      <th>0</th>\n",
       "      <td>1</td>\n",
       "      <td>吳蕚洋</td>\n",
       "      <td>58</td>\n",
       "      <td>無</td>\n",
       "    </tr>\n",
       "    <tr>\n",
       "      <th>1</th>\n",
       "      <td>2</td>\n",
       "      <td>丁守中</td>\n",
       "      <td>64</td>\n",
       "      <td>國民黨</td>\n",
       "    </tr>\n",
       "    <tr>\n",
       "      <th>2</th>\n",
       "      <td>3</td>\n",
       "      <td>姚文智</td>\n",
       "      <td>53</td>\n",
       "      <td>民進黨</td>\n",
       "    </tr>\n",
       "    <tr>\n",
       "      <th>3</th>\n",
       "      <td>4</td>\n",
       "      <td>柯文哲</td>\n",
       "      <td>59</td>\n",
       "      <td>無</td>\n",
       "    </tr>\n",
       "    <tr>\n",
       "      <th>4</th>\n",
       "      <td>5</td>\n",
       "      <td>李錫錕</td>\n",
       "      <td>71</td>\n",
       "      <td>無</td>\n",
       "    </tr>\n",
       "  </tbody>\n",
       "</table>\n",
       "</div>"
      ],
      "text/plain": [
       "   號次   姓名  年齡   黨派\n",
       "0   1  吳蕚洋  58    無\n",
       "1   2  丁守中  64  國民黨\n",
       "2   3  姚文智  53  民進黨\n",
       "3   4  柯文哲  59    無\n",
       "4   5  李錫錕  71    無"
      ]
     },
     "execution_count": 20,
     "metadata": {},
     "output_type": "execute_result"
    }
   ],
   "source": [
    "# drop_duplicates() : 移除DataFrame中重複的資料\n",
    "result = 台北市長候選人.drop_duplicates()\n",
    "result"
   ]
  },
  {
   "cell_type": "code",
   "execution_count": null,
   "metadata": {},
   "outputs": [],
   "source": []
  }
 ],
 "metadata": {
  "kernelspec": {
   "display_name": "Python 3",
   "language": "python",
   "name": "python3"
  },
  "language_info": {
   "codemirror_mode": {
    "name": "ipython",
    "version": 3
   },
   "file_extension": ".py",
   "mimetype": "text/x-python",
   "name": "python",
   "nbconvert_exporter": "python",
   "pygments_lexer": "ipython3",
   "version": "3.7.3"
  }
 },
 "nbformat": 4,
 "nbformat_minor": 2
}
